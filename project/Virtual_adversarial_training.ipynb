{
 "cells": [
  {
   "cell_type": "markdown",
   "metadata": {
    "colab_type": "text",
    "id": "QI-R3iyXn0L8"
   },
   "source": [
    "# Virtual Adversarial Training "
   ]
  },
  {
   "cell_type": "markdown",
   "metadata": {},
   "source": [
    "# A Regularization Method for Supervised and Semi-Supervised Learning"
   ]
  },
  {
   "cell_type": "markdown",
   "metadata": {},
   "source": [
    "------------------------------------\n",
    "#### Authors :\n",
    "- Mohamed NIANG\n",
    "- Fernanda TCHOUACHEU\n",
    "- Sokhna Penda TOURE\n",
    "-----------------------------------"
   ]
  },
  {
   "cell_type": "markdown",
   "metadata": {},
   "source": [
    "#  Table of Contents\n",
    "\n",
    "I. Introduction\n",
    "\n",
    "II. Importing packages \n",
    "\n",
    "III. Load data and preprocessing\n",
    "\n",
    "IV. VAT for semi-supervised learning on MNIST dataset\n",
    "\n",
    "V. Training Semi-supervised with VATModel \n",
    "\n",
    "VI. Training fully supervised without VATModel"
   ]
  },
  {
   "cell_type": "markdown",
   "metadata": {},
   "source": [
    "# I. Introduction "
   ]
  },
  {
   "cell_type": "markdown",
   "metadata": {},
   "source": [
    "<p style='text-align: justify;'>\n",
    "In this project, we are faced with a semi-supervised learning problem with MNIST data. The goal here is to make a prediction on MNIST data using only 100 labels.\n",
    "To do so, we use a regularization method based on the virtual loss of opponents: a new measure of the local uniformity of the conditional distribution of the input label. The virtual adversarial loss is defined as the robustness of the conditional distribution of the label around each input data point with respect to local perturbations. In contrast to contradictory training, this method defines the contradictory orientation without label information and is therefore applicable to semi-supervised learning.\n",
    "</p>"
   ]
  },
  {
   "cell_type": "code",
   "execution_count": 1,
   "metadata": {
    "colab": {
     "base_uri": "https://localhost:8080/",
     "height": 17
    },
    "colab_type": "code",
    "id": "aQMYkcF5n0L_",
    "outputId": "569ed4e2-7ab7-4de4-ce46-980f7a98b9f7"
   },
   "outputs": [],
   "source": [
    "### Ignore warning\n",
    "import warnings\n",
    "warnings.filterwarnings(\"ignore\")"
   ]
  },
  {
   "cell_type": "markdown",
   "metadata": {
    "colab_type": "text",
    "id": "5LURdlA2n0ME"
   },
   "source": [
    "# II. Importing packages "
   ]
  },
  {
   "cell_type": "code",
   "execution_count": 1,
   "metadata": {
    "colab": {
     "base_uri": "https://localhost:8080/",
     "height": 79
    },
    "colab_type": "code",
    "id": "iP4xRShCn0MF",
    "outputId": "f3ba4ec6-ba99-4fe9-e272-9802f59b9d09"
   },
   "outputs": [
    {
     "name": "stderr",
     "output_type": "stream",
     "text": [
      "Using TensorFlow backend.\n"
     ]
    },
    {
     "data": {
      "text/html": [
       "<p style=\"color: red;\">\n",
       "The default version of TensorFlow in Colab will soon switch to TensorFlow 2.x.<br>\n",
       "We recommend you <a href=\"https://www.tensorflow.org/guide/migrate\" target=\"_blank\">upgrade</a> now \n",
       "or ensure your notebook will continue to use TensorFlow 1.x via the <code>%tensorflow_version 1.x</code> magic:\n",
       "<a href=\"https://colab.research.google.com/notebooks/tensorflow_version.ipynb\" target=\"_blank\">more info</a>.</p>\n"
      ],
      "text/plain": [
       "<IPython.core.display.HTML object>"
      ]
     },
     "metadata": {
      "tags": []
     },
     "output_type": "display_data"
    }
   ],
   "source": [
    "import numpy as np\n",
    "%matplotlib inline\n",
    "import matplotlib.pyplot as plt\n",
    "from functools import reduce\n",
    "import keras\n",
    "from keras.layers import Conv2D, MaxPooling2D, Dense, Dropout, Flatten\n",
    "from keras.models import Sequential\n",
    "from keras.utils import to_categorical\n",
    "from keras.datasets import mnist\n",
    "from keras.utils.generic_utils import to_list\n",
    "from keras.engine.training import Model\n",
    "from keras.layers import Input\n",
    "import keras.backend as K"
   ]
  },
  {
   "cell_type": "markdown",
   "metadata": {
    "colab_type": "text",
    "id": "61rSGXW-n0MI"
   },
   "source": [
    "# III. Load data and preprocessing"
   ]
  },
  {
   "cell_type": "code",
   "execution_count": 2,
   "metadata": {
    "colab": {
     "base_uri": "https://localhost:8080/",
     "height": 50
    },
    "colab_type": "code",
    "id": "DDNZpII0n0MJ",
    "outputId": "fdd499cf-7b22-493d-f00e-93fcb4feb734"
   },
   "outputs": [
    {
     "name": "stdout",
     "output_type": "stream",
     "text": [
      "Downloading data from https://s3.amazonaws.com/img-datasets/mnist.npz\n",
      "11493376/11490434 [==============================] - 0s 0us/step\n"
     ]
    }
   ],
   "source": [
    "n_classes = 10\n",
    "batch_size = 128\n",
    "epochs = 12\n",
    "# input image dimensions\n",
    "img_rows, img_cols = 28, 28\n",
    "\n",
    "np.random.seed(1337)\n",
    "\n",
    "(X_train, y_train), (X_test, y_test) = mnist.load_data()\n",
    "\n",
    "if K.image_data_format() == 'channels_first':\n",
    "    X_train = X_train.reshape(X_train.shape[0], 1, img_rows, img_cols)\n",
    "    X_test = X_test.reshape(X_test.shape[0], 1, img_rows, img_cols)\n",
    "    input_shape = (1, img_rows, img_cols)\n",
    "else:\n",
    "    X_train = X_train.reshape(X_train.shape[0], img_rows, img_cols, 1)\n",
    "    X_test = X_test.reshape(X_test.shape[0], img_rows, img_cols, 1)\n",
    "    input_shape = (img_rows, img_cols, 1)\n",
    "\n",
    "X_train = X_train.astype('float32')\n",
    "X_test = X_test.astype('float32')\n",
    "X_train /= 255\n",
    "X_test /= 255\n",
    "\n",
    "# convert class vectors to binary class matrices\n",
    "y_train = to_categorical(y_train, n_classes)\n",
    "y_test = to_categorical(y_test, n_classes)"
   ]
  },
  {
   "cell_type": "code",
   "execution_count": 3,
   "metadata": {
    "colab": {
     "base_uri": "https://localhost:8080/",
     "height": 67
    },
    "colab_type": "code",
    "id": "3Y6zo3wqn0MM",
    "outputId": "84f44f1d-ef91-486b-ca18-5632e6979a81"
   },
   "outputs": [
    {
     "name": "stdout",
     "output_type": "stream",
     "text": [
      "X_train shape: (60000, 28, 28, 1)\n",
      "60000 Train samples\n",
      "10000 Test samples\n"
     ]
    }
   ],
   "source": [
    "print('X_train shape:', X_train.shape)\n",
    "print(X_train.shape[0], 'Train samples')\n",
    "print(X_test.shape[0], 'Test samples')"
   ]
  },
  {
   "cell_type": "markdown",
   "metadata": {
    "colab_type": "text",
    "id": "00jDS-4wn0MP"
   },
   "source": [
    "# IV. VAT for semi-supervised learning on MNIST dataset"
   ]
  },
  {
   "cell_type": "code",
   "execution_count": null,
   "metadata": {
    "colab": {},
    "colab_type": "code",
    "id": "o_lnW5iIn0MQ"
   },
   "outputs": [],
   "source": [
    "class VATModel(Model):\n",
    "    def __init__(self, model, input_shape=(28, 28, 1), xi=1e-3, eps=1.0, ip=1):  \n",
    "        vat_inputs = [Input(shape=input_shape) for i in model.inputs]  \n",
    "        vat_outputs = model(vat_inputs)\n",
    "        super(VATModel, self).__init__(inputs=vat_inputs,\n",
    "                                       outputs=vat_outputs)\n",
    "        self._vat_loss = None\n",
    "        self.setup_vat_loss(eps=eps, xi=xi, ip=ip)\n",
    "\n",
    "    def setup_vat_loss(self, eps, xi, ip):\n",
    "        self._vat_loss = self.vat_loss(eps, xi, ip)\n",
    "        self.add_loss(self._vat_loss)\n",
    "        return self\n",
    "\n",
    "    def vat_loss(self, eps, xi, ip):\n",
    "        normal_outputs = [K.stop_gradient(x) for x in to_list(self.outputs)]\n",
    "        d_list = [K.random_normal(K.shape(x)) for x in self.inputs]\n",
    "\n",
    "        for _ in range(ip):\n",
    "            new_inputs = [x + self.normalize_vector(d)*xi\n",
    "                          for (x, d) in zip(self.inputs, d_list)]\n",
    "            new_outputs = to_list(self.call(new_inputs))\n",
    "            klds = [K.sum(self.kld(normal, new))\n",
    "                    for normal, new in zip(normal_outputs, new_outputs)]\n",
    "            kld = reduce(lambda t, x: t+x, klds, 0)\n",
    "            d_list = [K.stop_gradient(d) for d in K.gradients(kld, d_list)]\n",
    "\n",
    "        new_inputs = [x + self.normalize_vector(d) * eps\n",
    "                      for (x, d) in zip(self.inputs, d_list)]\n",
    "        y_perturbations = to_list(self.call(new_inputs))\n",
    "        klds = [K.mean(self.kld(normal, new))\n",
    "                for normal, new in zip(normal_outputs, y_perturbations)]\n",
    "        kld = reduce(lambda t, x: t + x, klds, 0)\n",
    "        return kld\n",
    "\n",
    "    @staticmethod\n",
    "    def normalize_vector(x):\n",
    "        z = K.sum(K.batch_flatten(K.square(x)), axis=1)\n",
    "        while K.ndim(z) < K.ndim(x):\n",
    "            z = K.expand_dims(z, axis=-1)\n",
    "        return x / (K.sqrt(z) + K.epsilon())\n",
    "\n",
    "    @staticmethod\n",
    "    def kld(p, q):\n",
    "        v = p * (K.log(p + K.epsilon()) - K.log(q + K.epsilon()))\n",
    "        return K.sum(K.batch_flatten(v), axis=1, keepdims=True)\n",
    "\n",
    "\n",
    "class SemiSupervisedVATModel(Model):\n",
    "    def __init__(self, model, input_shape=(28, 28, 1), xi=1e-3, eps=1.0, ip=1):\n",
    "        supervised_model = model\n",
    "        unsupervised_model = VATModel(model, input_shape=input_shape,\n",
    "                                      xi=xi, eps=eps, ip=ip)\n",
    "        all_inputs = supervised_model.inputs + unsupervised_model.inputs\n",
    "        all_outputs = supervised_model.outputs + unsupervised_model.outputs\n",
    "        super(SemiSupervisedVATModel, self).__init__(inputs=all_inputs,\n",
    "                                                     outputs=all_outputs)\n",
    "\n",
    "        self.supervised_model = supervised_model\n",
    "        self.unsupervised_model = unsupervised_model\n",
    "\n",
    "    def compile(self, optimizer, loss, metrics=[]):\n",
    "        self.supervised_model.compile(optimizer=optimizer,\n",
    "                                      loss=loss,\n",
    "                                      metrics=metrics)\n",
    "        self.unsupervised_model.compile(optimizer=optimizer, loss=[None])\n",
    "\n",
    "    @property\n",
    "    def metrics_names(self):\n",
    "        return [\"sup_\" + m for m in self.supervised_model.metrics_names] + \\\n",
    "               [\"unsup_\" + m for m in self.unsupervised_model.metrics_names]\n",
    "\n",
    "    def fit(self, x=None, y=None, batch_size=32, epochs=1):\n",
    "        # One item for supervised, one for unsupervised\n",
    "        assert len(x) == len(y) == 2\n",
    "        n_sup = x[0].shape[0]\n",
    "        n_unsup = x[1].shape[0]\n",
    "        n = max([n_sup, n_unsup])\n",
    "        for e in range(epochs):\n",
    "            n_batches = n // batch_size\n",
    "            loss_sup = np.array([0.] * len(self.supervised_model.metrics_names))\n",
    "            loss_unsup = np.array([0.] * len(self.supervised_model.metrics_names))\n",
    "            for b in range(n_batches):\n",
    "                indices_sup = np.random.randint(low=0, high=n_sup,\n",
    "                                                   size=batch_size)\n",
    "                indices_unsup = np.random.randint(low=0, high=n_unsup,\n",
    "                                                     size=batch_size)\n",
    "                x_sup_batch = x[0][indices_sup]\n",
    "                y_sup_batch = y[0][indices_sup]\n",
    "                x_unsup_batch = x[1][indices_unsup]\n",
    "                loss_sup += self.supervised_model.train_on_batch(x_sup_batch,\n",
    "                                                                 y_sup_batch)\n",
    "                loss_unsup += self.unsupervised_model.train_on_batch(x_unsup_batch,\n",
    "                                                                     None)\n",
    "            loss_sup /= n_batches\n",
    "            loss_unsup /= n_batches\n",
    "            loss = np.stack((loss_sup, loss_unsup)).reshape((-1, ))\n",
    "            s = \"epoch {}/{}: \".format(e + 1, epochs)\n",
    "            for i, name in enumerate(self.metrics_names):\n",
    "                s += \"{}: {} \".format(name, loss[i])\n",
    "            print(s)\n",
    "        return [-1., -1.]  \n",
    "\n",
    "    def predict(self, x,\n",
    "                batch_size=None,\n",
    "                verbose=0,\n",
    "                steps=None):\n",
    "        return self.supervised_model.predict(x=x, batch_size=batch_size,\n",
    "                                             verbose=verbose, steps=steps)\n",
    "\n",
    "    def evaluate(self, x=None, y=None,\n",
    "                 batch_size=None,\n",
    "                 verbose=1,\n",
    "                 sample_weight=None,\n",
    "                 steps=None):\n",
    "        return self.supervised_model.evaluate(x=x, y=y,\n",
    "                                              sample_weight=sample_weight,\n",
    "                                              batch_size=batch_size,\n",
    "                                              verbose=verbose, steps=steps)"
   ]
  },
  {
   "cell_type": "markdown",
   "metadata": {
    "colab_type": "text",
    "id": "4ER6zEvIuR1p"
   },
   "source": [
    "# V. Training Semi-supervised with VATModel "
   ]
  },
  {
   "cell_type": "code",
   "execution_count": null,
   "metadata": {
    "colab": {},
    "colab_type": "code",
    "id": "v6b2SJNAt_cG"
   },
   "outputs": [],
   "source": [
    "indices_supervised = np.random.randint(low=0, high=X_train.shape[0],\n",
    "                                          size=X_train.shape[0] // 600)\n",
    "indices_unsupervised = np.isin(np.arange(X_train.shape[0]),\n",
    "                                  indices_supervised,\n",
    "                                  invert=True)\n",
    "X_train_sup = X_train[indices_supervised]\n",
    "y_train_sup = y_train[indices_supervised]\n",
    "X_train_unsup = X_train[indices_unsupervised]"
   ]
  },
  {
   "cell_type": "code",
   "execution_count": 6,
   "metadata": {
    "colab": {
     "base_uri": "https://localhost:8080/",
     "height": 255
    },
    "colab_type": "code",
    "id": "BlAl4wF-DqXY",
    "outputId": "469a25fb-cc75-4b54-95b8-65d61ba65108"
   },
   "outputs": [
    {
     "name": "stdout",
     "output_type": "stream",
     "text": [
      "WARNING:tensorflow:From /usr/local/lib/python3.6/dist-packages/keras/backend/tensorflow_backend.py:66: The name tf.get_default_graph is deprecated. Please use tf.compat.v1.get_default_graph instead.\n",
      "\n",
      "WARNING:tensorflow:From /usr/local/lib/python3.6/dist-packages/keras/backend/tensorflow_backend.py:541: The name tf.placeholder is deprecated. Please use tf.compat.v1.placeholder instead.\n",
      "\n",
      "WARNING:tensorflow:From /usr/local/lib/python3.6/dist-packages/keras/backend/tensorflow_backend.py:4432: The name tf.random_uniform is deprecated. Please use tf.random.uniform instead.\n",
      "\n",
      "WARNING:tensorflow:From /usr/local/lib/python3.6/dist-packages/keras/backend/tensorflow_backend.py:4267: The name tf.nn.max_pool is deprecated. Please use tf.nn.max_pool2d instead.\n",
      "\n",
      "WARNING:tensorflow:From /usr/local/lib/python3.6/dist-packages/keras/backend/tensorflow_backend.py:148: The name tf.placeholder_with_default is deprecated. Please use tf.compat.v1.placeholder_with_default instead.\n",
      "\n",
      "WARNING:tensorflow:From /usr/local/lib/python3.6/dist-packages/keras/backend/tensorflow_backend.py:3733: calling dropout (from tensorflow.python.ops.nn_ops) with keep_prob is deprecated and will be removed in a future version.\n",
      "Instructions for updating:\n",
      "Please use `rate` instead of `keep_prob`. Rate should be set to `rate = 1 - keep_prob`.\n"
     ]
    }
   ],
   "source": [
    "model2 = Sequential()\n",
    "model2.add(Conv2D(32, kernel_size=(3, 3),\n",
    "                 activation='relu',\n",
    "                 input_shape=input_shape))\n",
    "model2.add(Conv2D(64, (3, 3), activation='relu'))\n",
    "model2.add(MaxPooling2D(pool_size=(2, 2)))\n",
    "model2.add(Dropout(0.25))\n",
    "model2.add(Flatten())\n",
    "model2.add(Dense(128, activation='relu'))\n",
    "model2.add(Dropout(0.5))\n",
    "model2.add(Dense(n_classes, activation='softmax'))"
   ]
  },
  {
   "cell_type": "code",
   "execution_count": 7,
   "metadata": {
    "colab": {
     "base_uri": "https://localhost:8080/",
     "height": 154
    },
    "colab_type": "code",
    "id": "OtfhpyxEu65t",
    "outputId": "1ed118a5-848d-4631-bfcc-87e9db164281"
   },
   "outputs": [
    {
     "name": "stdout",
     "output_type": "stream",
     "text": [
      "WARNING:tensorflow:From /usr/local/lib/python3.6/dist-packages/keras/backend/tensorflow_backend.py:4409: The name tf.random_normal is deprecated. Please use tf.random.normal instead.\n",
      "\n",
      "WARNING:tensorflow:From /usr/local/lib/python3.6/dist-packages/keras/backend/tensorflow_backend.py:1702: The name tf.log is deprecated. Please use tf.math.log instead.\n",
      "\n",
      "WARNING:tensorflow:From /usr/local/lib/python3.6/dist-packages/tensorflow_core/python/ops/math_grad.py:1424: where (from tensorflow.python.ops.array_ops) is deprecated and will be removed in a future version.\n",
      "Instructions for updating:\n",
      "Use tf.where in 2.0, which has the same broadcast rule as np.where\n"
     ]
    }
   ],
   "source": [
    "model2 = SemiSupervisedVATModel(model=model2)"
   ]
  },
  {
   "cell_type": "code",
   "execution_count": 8,
   "metadata": {
    "colab": {
     "base_uri": "https://localhost:8080/",
     "height": 50
    },
    "colab_type": "code",
    "id": "n5TIqlgM-Yto",
    "outputId": "58bd30ea-c08a-423f-de8e-a3642d794449"
   },
   "outputs": [
    {
     "name": "stdout",
     "output_type": "stream",
     "text": [
      "WARNING:tensorflow:From /usr/local/lib/python3.6/dist-packages/keras/optimizers.py:793: The name tf.train.Optimizer is deprecated. Please use tf.compat.v1.train.Optimizer instead.\n",
      "\n"
     ]
    }
   ],
   "source": [
    "model2.compile(loss=keras.losses.categorical_crossentropy,\n",
    "              optimizer=keras.optimizers.Adadelta(),\n",
    "              metrics=['accuracy'])"
   ]
  },
  {
   "cell_type": "code",
   "execution_count": 9,
   "metadata": {
    "colab": {
     "base_uri": "https://localhost:8080/",
     "height": 1000
    },
    "colab_type": "code",
    "id": "3ox8s_JF9Gfa",
    "outputId": "02f80b86-ec10-4140-9e8d-c333434fb7a0"
   },
   "outputs": [
    {
     "name": "stdout",
     "output_type": "stream",
     "text": [
      "WARNING:tensorflow:From /usr/local/lib/python3.6/dist-packages/keras/backend/tensorflow_backend.py:1033: The name tf.assign_add is deprecated. Please use tf.compat.v1.assign_add instead.\n",
      "\n",
      "WARNING:tensorflow:From /usr/local/lib/python3.6/dist-packages/keras/backend/tensorflow_backend.py:1020: The name tf.assign is deprecated. Please use tf.compat.v1.assign instead.\n",
      "\n",
      "WARNING:tensorflow:From /usr/local/lib/python3.6/dist-packages/keras/backend/tensorflow_backend.py:3005: The name tf.Session is deprecated. Please use tf.compat.v1.Session instead.\n",
      "\n",
      "WARNING:tensorflow:From /usr/local/lib/python3.6/dist-packages/keras/backend/tensorflow_backend.py:190: The name tf.get_default_session is deprecated. Please use tf.compat.v1.get_default_session instead.\n",
      "\n",
      "WARNING:tensorflow:From /usr/local/lib/python3.6/dist-packages/keras/backend/tensorflow_backend.py:197: The name tf.ConfigProto is deprecated. Please use tf.compat.v1.ConfigProto instead.\n",
      "\n",
      "WARNING:tensorflow:From /usr/local/lib/python3.6/dist-packages/keras/backend/tensorflow_backend.py:207: The name tf.global_variables is deprecated. Please use tf.compat.v1.global_variables instead.\n",
      "\n",
      "WARNING:tensorflow:From /usr/local/lib/python3.6/dist-packages/keras/backend/tensorflow_backend.py:216: The name tf.is_variable_initialized is deprecated. Please use tf.compat.v1.is_variable_initialized instead.\n",
      "\n",
      "WARNING:tensorflow:From /usr/local/lib/python3.6/dist-packages/keras/backend/tensorflow_backend.py:223: The name tf.variables_initializer is deprecated. Please use tf.compat.v1.variables_initializer instead.\n",
      "\n",
      "epoch 1/100: sup_loss: 0.20574596107037982 sup_acc: 0.9828359207708779 unsup_loss: 0.29834638934430907 \n",
      "epoch 2/100: sup_loss: 0.044388600543332817 sup_acc: 1.0 unsup_loss: 0.19162017065529138 \n",
      "epoch 3/100: sup_loss: 0.01605260800430651 sup_acc: 0.9999832708779444 unsup_loss: 0.143958437876732 \n",
      "epoch 4/100: sup_loss: 0.007326560106731221 sup_acc: 0.9999832708779444 unsup_loss: 0.12593697703880213 \n",
      "epoch 5/100: sup_loss: 0.0044793255531929066 sup_acc: 0.9999832708779444 unsup_loss: 0.11350998877521756 \n",
      "epoch 6/100: sup_loss: 0.0038929482886061167 sup_acc: 0.999949812633833 unsup_loss: 0.11039196119924939 \n",
      "epoch 7/100: sup_loss: 0.0031759491887933733 sup_acc: 0.9999665417558886 unsup_loss: 0.11140048921874045 \n",
      "epoch 8/100: sup_loss: 0.0025355960862542557 sup_acc: 0.9999665417558886 unsup_loss: 0.10881293170967755 \n",
      "epoch 9/100: sup_loss: 0.0024037070429536894 sup_acc: 1.0 unsup_loss: 0.10759921237124366 \n",
      "epoch 10/100: sup_loss: 0.0024267106793551133 sup_acc: 0.9999665417558886 unsup_loss: 0.10595352808113272 \n",
      "epoch 11/100: sup_loss: 0.0015875822552557082 sup_acc: 0.9999832708779444 unsup_loss: 0.11100601333909423 \n",
      "epoch 12/100: sup_loss: 0.001876645797713534 sup_acc: 1.0 unsup_loss: 0.10435676757381866 \n",
      "epoch 13/100: sup_loss: 0.0017977192887250629 sup_acc: 0.9999665417558886 unsup_loss: 0.1087138118657106 \n",
      "epoch 14/100: sup_loss: 0.0011925321510985216 sup_acc: 0.9999330835117773 unsup_loss: 0.11468714068801296 \n",
      "epoch 15/100: sup_loss: 0.0014007924634476423 sup_acc: 0.9999832708779444 unsup_loss: 0.10825055585555908 \n",
      "epoch 16/100: sup_loss: 0.0015060479213457208 sup_acc: 0.9999832708779444 unsup_loss: 0.10236452274997689 \n",
      "epoch 17/100: sup_loss: 0.0012613664141831705 sup_acc: 0.9999330835117773 unsup_loss: 0.10322140182749362 \n",
      "epoch 18/100: sup_loss: 0.0012903027828821186 sup_acc: 0.9999665417558886 unsup_loss: 0.10513040359576713 \n",
      "epoch 19/100: sup_loss: 0.0010832511742488813 sup_acc: 0.9999832708779444 unsup_loss: 0.1052592977705936 \n",
      "epoch 20/100: sup_loss: 0.0009790401860530144 sup_acc: 1.0 unsup_loss: 0.10760663778419413 \n",
      "epoch 21/100: sup_loss: 0.0013652928014000682 sup_acc: 0.999949812633833 unsup_loss: 0.10655859856999916 \n",
      "epoch 22/100: sup_loss: 0.0009992091528523157 sup_acc: 0.9999832708779444 unsup_loss: 0.11247707428749674 \n",
      "epoch 23/100: sup_loss: 0.001178588935153669 sup_acc: 0.999949812633833 unsup_loss: 0.11399145393255436 \n",
      "epoch 24/100: sup_loss: 0.0008753152357870429 sup_acc: 0.9999832708779444 unsup_loss: 0.10783759723128292 \n",
      "epoch 25/100: sup_loss: 0.000845422405098369 sup_acc: 1.0 unsup_loss: 0.11250267528811154 \n",
      "epoch 26/100: sup_loss: 0.0007941483426754981 sup_acc: 1.0 unsup_loss: 0.12031957486393109 \n",
      "epoch 27/100: sup_loss: 0.0009242681836796567 sup_acc: 0.9999832708779444 unsup_loss: 0.11787657738848722 \n",
      "epoch 28/100: sup_loss: 0.0008724217598739504 sup_acc: 0.9999665417558886 unsup_loss: 0.11375699968454159 \n",
      "epoch 29/100: sup_loss: 0.0009096232776348609 sup_acc: 0.9999832708779444 unsup_loss: 0.11338606621966373 \n",
      "epoch 30/100: sup_loss: 0.000759064748183805 sup_acc: 0.9999832708779444 unsup_loss: 0.12358274545353026 \n",
      "epoch 31/100: sup_loss: 0.0007365431012981808 sup_acc: 0.9999330835117773 unsup_loss: 0.12248925993127281 \n",
      "epoch 32/100: sup_loss: 0.0007048087276225624 sup_acc: 0.999949812633833 unsup_loss: 0.12172486802176183 \n",
      "epoch 33/100: sup_loss: 0.0007436594394995316 sup_acc: 1.0 unsup_loss: 0.11741907808459034 \n",
      "epoch 34/100: sup_loss: 0.0007974830544433417 sup_acc: 0.9999665417558886 unsup_loss: 0.11589522115742625 \n",
      "epoch 35/100: sup_loss: 0.0006426291106718502 sup_acc: 0.9999832708779444 unsup_loss: 0.11957875616864423 \n",
      "epoch 36/100: sup_loss: 0.0008729012056343405 sup_acc: 0.9999163543897216 unsup_loss: 0.1199177524964355 \n",
      "epoch 37/100: sup_loss: 0.0007053004273575717 sup_acc: 0.9999163543897216 unsup_loss: 0.12929742992307186 \n",
      "epoch 38/100: sup_loss: 0.0007214804139660449 sup_acc: 0.9999665417558886 unsup_loss: 0.11498645772834407 \n",
      "epoch 39/100: sup_loss: 0.0006183388907199302 sup_acc: 0.999949812633833 unsup_loss: 0.11616038093124008 \n",
      "epoch 40/100: sup_loss: 0.0007191841996732666 sup_acc: 0.9999665417558886 unsup_loss: 0.1165785795073693 \n",
      "epoch 41/100: sup_loss: 0.0007816145008901217 sup_acc: 0.999899625267666 unsup_loss: 0.12607250938578898 \n",
      "epoch 42/100: sup_loss: 0.0006138636370206034 sup_acc: 0.999949812633833 unsup_loss: 0.12823920164105723 \n",
      "epoch 43/100: sup_loss: 0.0006668382261085027 sup_acc: 0.9999832708779444 unsup_loss: 0.134856517504446 \n",
      "epoch 44/100: sup_loss: 0.0006534903621041115 sup_acc: 0.999949812633833 unsup_loss: 0.1339467431257062 \n",
      "epoch 45/100: sup_loss: 0.0006934007451491198 sup_acc: 0.999949812633833 unsup_loss: 0.13791971617803073 \n",
      "epoch 46/100: sup_loss: 0.0007597290782999346 sup_acc: 0.9998828961456103 unsup_loss: 0.13804576380030756 \n",
      "epoch 47/100: sup_loss: 0.0007345118180464325 sup_acc: 0.999899625267666 unsup_loss: 0.1414485111417811 \n",
      "epoch 48/100: sup_loss: 0.000527618120909882 sup_acc: 0.999949812633833 unsup_loss: 0.14517581936697888 \n",
      "epoch 49/100: sup_loss: 0.0003555425296949784 sup_acc: 0.9999330835117773 unsup_loss: 0.14046366830262688 \n",
      "epoch 50/100: sup_loss: 0.00044417920903070833 sup_acc: 0.999899625267666 unsup_loss: 0.1424897116722591 \n",
      "epoch 51/100: sup_loss: 0.00034011220255449504 sup_acc: 0.9999665417558886 unsup_loss: 0.13725708431426667 \n",
      "epoch 52/100: sup_loss: 0.00034724569805010544 sup_acc: 0.9999832708779444 unsup_loss: 0.14358618391211078 \n",
      "epoch 53/100: sup_loss: 0.0004114546700906902 sup_acc: 0.999949812633833 unsup_loss: 0.13229510327701394 \n",
      "epoch 54/100: sup_loss: 0.00033720972322713914 sup_acc: 1.0 unsup_loss: 0.12262004360205611 \n",
      "epoch 55/100: sup_loss: 0.0002769114689833962 sup_acc: 1.0 unsup_loss: 0.12052454797818267 \n",
      "epoch 56/100: sup_loss: 0.00042965115943798763 sup_acc: 0.9999832708779444 unsup_loss: 0.12181773673288317 \n",
      "epoch 57/100: sup_loss: 0.0004125631418708516 sup_acc: 1.0 unsup_loss: 0.11666662858627593 \n",
      "epoch 58/100: sup_loss: 0.0002824924279630691 sup_acc: 0.9999832708779444 unsup_loss: 0.11944110490525305 \n",
      "epoch 59/100: sup_loss: 0.00030217024532618644 sup_acc: 1.0 unsup_loss: 0.1143087430655701 \n",
      "epoch 60/100: sup_loss: 0.0003379925903419312 sup_acc: 0.9999665417558886 unsup_loss: 0.11098898068963843 \n",
      "epoch 61/100: sup_loss: 0.00030921094299741705 sup_acc: 0.9999665417558886 unsup_loss: 0.11383859439886612 \n",
      "epoch 62/100: sup_loss: 0.0003611128049221856 sup_acc: 0.9999832708779444 unsup_loss: 0.10814466567538535 \n",
      "epoch 63/100: sup_loss: 0.00039667060090122907 sup_acc: 0.9999832708779444 unsup_loss: 0.10498694754833839 \n",
      "epoch 64/100: sup_loss: 0.00027415902987337857 sup_acc: 1.0 unsup_loss: 0.10160247532439436 \n",
      "epoch 65/100: sup_loss: 0.0003880162686273758 sup_acc: 0.9999330835117773 unsup_loss: 0.096484020639538 \n",
      "epoch 66/100: sup_loss: 0.00035460124822835824 sup_acc: 0.999949812633833 unsup_loss: 0.09444910772065024 \n",
      "epoch 67/100: sup_loss: 0.0002447031903673095 sup_acc: 1.0 unsup_loss: 0.0960695127013281 \n",
      "epoch 68/100: sup_loss: 0.00027135615900852016 sup_acc: 0.9999665417558886 unsup_loss: 0.09616132887834145 \n",
      "epoch 69/100: sup_loss: 0.00023185306929974193 sup_acc: 0.9999832708779444 unsup_loss: 0.0930611864450274 \n",
      "epoch 70/100: sup_loss: 0.0002550105218142952 sup_acc: 0.9999832708779444 unsup_loss: 0.09013329165523007 \n",
      "epoch 71/100: sup_loss: 0.00029218530940225255 sup_acc: 0.9999832708779444 unsup_loss: 0.09112000737411052 \n",
      "epoch 72/100: sup_loss: 0.0002578888420829546 sup_acc: 0.9999832708779444 unsup_loss: 0.09189201683220823 \n",
      "epoch 73/100: sup_loss: 0.00020887795922106198 sup_acc: 1.0 unsup_loss: 0.09359551463635116 \n",
      "epoch 74/100: sup_loss: 0.0002586565256150776 sup_acc: 0.9999832708779444 unsup_loss: 0.09320246243183311 \n",
      "epoch 75/100: sup_loss: 0.00021739011122573162 sup_acc: 1.0 unsup_loss: 0.08817111466646323 \n",
      "epoch 76/100: sup_loss: 0.00022404143804044183 sup_acc: 0.9999832708779444 unsup_loss: 0.08733731962947824 \n",
      "epoch 77/100: sup_loss: 0.00016629291119769435 sup_acc: 1.0 unsup_loss: 0.08696628322852755 \n",
      "epoch 78/100: sup_loss: 0.000199521765203024 sup_acc: 1.0 unsup_loss: 0.08886322746855033 \n",
      "epoch 79/100: sup_loss: 0.00020134095157351984 sup_acc: 0.9999832708779444 unsup_loss: 0.08965324834228455 \n",
      "epoch 80/100: sup_loss: 0.00013382967416069398 sup_acc: 1.0 unsup_loss: 0.08749790483291961 \n",
      "epoch 81/100: sup_loss: 0.0002104998963607845 sup_acc: 0.9999665417558886 unsup_loss: 0.08342515195797674 \n",
      "epoch 82/100: sup_loss: 0.00014025969280241009 sup_acc: 1.0 unsup_loss: 0.08352241490028273 \n",
      "epoch 83/100: sup_loss: 0.0002075733624599958 sup_acc: 0.9999832708779444 unsup_loss: 0.07976572347577558 \n",
      "epoch 84/100: sup_loss: 0.0002497306724350992 sup_acc: 0.999949812633833 unsup_loss: 0.08194869269299813 \n",
      "epoch 85/100: sup_loss: 0.00018565404207452076 sup_acc: 0.9999832708779444 unsup_loss: 0.08071603110694273 \n",
      "epoch 86/100: sup_loss: 0.0001428200713301831 sup_acc: 0.9999832708779444 unsup_loss: 0.0769589970474644 \n",
      "epoch 87/100: sup_loss: 0.00014465723673533023 sup_acc: 0.9999832708779444 unsup_loss: 0.08281784639464455 \n",
      "epoch 88/100: sup_loss: 0.00018361539253341908 sup_acc: 0.9999665417558886 unsup_loss: 0.07946838128202988 \n",
      "epoch 89/100: sup_loss: 0.00019632608431628635 sup_acc: 0.999949812633833 unsup_loss: 0.07957239894942247 \n",
      "epoch 90/100: sup_loss: 0.00012761489179433398 sup_acc: 1.0 unsup_loss: 0.07713360069379434 \n",
      "epoch 91/100: sup_loss: 0.00013047225105435774 sup_acc: 1.0 unsup_loss: 0.07585634356583977 \n",
      "epoch 92/100: sup_loss: 0.00017449982121679392 sup_acc: 0.9999665417558886 unsup_loss: 0.07672734440521714 \n",
      "epoch 93/100: sup_loss: 0.00013188278007406626 sup_acc: 1.0 unsup_loss: 0.08448369502901584 \n",
      "epoch 94/100: sup_loss: 0.00012023979302119175 sup_acc: 1.0 unsup_loss: 0.07748212530905864 \n",
      "epoch 95/100: sup_loss: 0.0001327575077200353 sup_acc: 1.0 unsup_loss: 0.08259473950452544 \n",
      "epoch 96/100: sup_loss: 0.00013505478615204476 sup_acc: 0.9999832708779444 unsup_loss: 0.08349179280861989 \n",
      "epoch 97/100: sup_loss: 0.00015078975473139465 sup_acc: 0.9999832708779444 unsup_loss: 0.08181498821912536 \n",
      "epoch 98/100: sup_loss: 0.00018243795921001047 sup_acc: 0.9999665417558886 unsup_loss: 0.08536602570266488 \n",
      "epoch 99/100: sup_loss: 0.00011535988142448846 sup_acc: 1.0 unsup_loss: 0.0804415303591551 \n",
      "epoch 100/100: sup_loss: 0.00013321397862326806 sup_acc: 1.0 unsup_loss: 0.07569548345272623 \n"
     ]
    },
    {
     "data": {
      "text/plain": [
       "[-1.0, -1.0]"
      ]
     },
     "execution_count": 9,
     "metadata": {
      "tags": []
     },
     "output_type": "execute_result"
    }
   ],
   "source": [
    "histories2 = model2.fit([X_train_sup, X_train_unsup],\n",
    "           [y_train_sup, None],\n",
    "           batch_size=batch_size, epochs=100)\n",
    "\n",
    "histories2"
   ]
  },
  {
   "cell_type": "code",
   "execution_count": 10,
   "metadata": {
    "colab": {
     "base_uri": "https://localhost:8080/",
     "height": 67
    },
    "colab_type": "code",
    "id": "qD7AGrJJCYPM",
    "outputId": "8d2d9ea8-47a7-4141-c8ce-35361c9e8f2d"
   },
   "outputs": [
    {
     "name": "stdout",
     "output_type": "stream",
     "text": [
      "10000/10000 [==============================] - 1s 69us/step\n",
      "Test loss: 0.5893054841025295\n",
      "Test accuracy: 0.9215\n"
     ]
    }
   ],
   "source": [
    "score2 = model2.evaluate(X_test, y_test)\n",
    "print('Test loss:', score2[0])\n",
    "print('Test accuracy:', score2[1])"
   ]
  },
  {
   "cell_type": "markdown",
   "metadata": {
    "colab_type": "text",
    "id": "io2aE4b6HflH"
   },
   "source": [
    "# VI. Training fully supervised without VATModel "
   ]
  },
  {
   "cell_type": "code",
   "execution_count": null,
   "metadata": {
    "colab": {},
    "colab_type": "code",
    "id": "9JYDv7V1Hh3w"
   },
   "outputs": [],
   "source": [
    "model1 = Sequential()\n",
    "model1.add(Conv2D(32, kernel_size=(3, 3),\n",
    "                 activation='relu',\n",
    "                 input_shape=input_shape))\n",
    "model1.add(Conv2D(64, (3, 3), activation='relu'))\n",
    "model1.add(MaxPooling2D(pool_size=(2, 2)))\n",
    "model1.add(Dropout(0.25))\n",
    "model1.add(Flatten())\n",
    "model1.add(Dense(128, activation='relu'))\n",
    "model1.add(Dropout(0.5))\n",
    "model1.add(Dense(n_classes, activation='softmax'))"
   ]
  },
  {
   "cell_type": "code",
   "execution_count": 36,
   "metadata": {
    "colab": {
     "base_uri": "https://localhost:8080/",
     "height": 420
    },
    "colab_type": "code",
    "id": "Sh5cibqSHnsP",
    "outputId": "58e8af1a-bd24-4345-dd3a-5822d639e356"
   },
   "outputs": [
    {
     "name": "stdout",
     "output_type": "stream",
     "text": [
      "Model: \"sequential_3\"\n",
      "_________________________________________________________________\n",
      "Layer (type)                 Output Shape              Param #   \n",
      "=================================================================\n",
      "conv2d_5 (Conv2D)            (None, 26, 26, 32)        320       \n",
      "_________________________________________________________________\n",
      "conv2d_6 (Conv2D)            (None, 24, 24, 64)        18496     \n",
      "_________________________________________________________________\n",
      "max_pooling2d_3 (MaxPooling2 (None, 12, 12, 64)        0         \n",
      "_________________________________________________________________\n",
      "dropout_5 (Dropout)          (None, 12, 12, 64)        0         \n",
      "_________________________________________________________________\n",
      "flatten_3 (Flatten)          (None, 9216)              0         \n",
      "_________________________________________________________________\n",
      "dense_5 (Dense)              (None, 128)               1179776   \n",
      "_________________________________________________________________\n",
      "dropout_6 (Dropout)          (None, 128)               0         \n",
      "_________________________________________________________________\n",
      "dense_6 (Dense)              (None, 10)                1290      \n",
      "=================================================================\n",
      "Total params: 1,199,882\n",
      "Trainable params: 1,199,882\n",
      "Non-trainable params: 0\n",
      "_________________________________________________________________\n"
     ]
    }
   ],
   "source": [
    "model1.summary()"
   ]
  },
  {
   "cell_type": "code",
   "execution_count": null,
   "metadata": {
    "colab": {},
    "colab_type": "code",
    "id": "W89XxHbiHvb4"
   },
   "outputs": [],
   "source": [
    "model1.compile(loss=keras.losses.categorical_crossentropy,\n",
    "              optimizer=keras.optimizers.Adadelta(),\n",
    "              metrics=['accuracy'])"
   ]
  },
  {
   "cell_type": "code",
   "execution_count": 38,
   "metadata": {
    "colab": {
     "base_uri": "https://localhost:8080/",
     "height": 454
    },
    "colab_type": "code",
    "id": "nsUqrkpRHzTL",
    "outputId": "a93a1105-6d8b-4ac6-a792-83cb5df57710"
   },
   "outputs": [
    {
     "name": "stdout",
     "output_type": "stream",
     "text": [
      "Train on 100 samples, validate on 10000 samples\n",
      "Epoch 1/12\n",
      "100/100 [==============================] - 1s 9ms/step - loss: 2.2913 - acc: 0.1100 - val_loss: 2.2095 - val_acc: 0.3410\n",
      "Epoch 2/12\n",
      "100/100 [==============================] - 0s 3ms/step - loss: 2.1509 - acc: 0.3200 - val_loss: 2.0931 - val_acc: 0.3118\n",
      "Epoch 3/12\n",
      "100/100 [==============================] - 0s 3ms/step - loss: 1.9288 - acc: 0.4800 - val_loss: 1.8449 - val_acc: 0.4330\n",
      "Epoch 4/12\n",
      "100/100 [==============================] - 0s 3ms/step - loss: 1.6894 - acc: 0.5400 - val_loss: 1.6648 - val_acc: 0.4634\n",
      "Epoch 5/12\n",
      "100/100 [==============================] - 0s 3ms/step - loss: 1.4502 - acc: 0.5600 - val_loss: 1.9307 - val_acc: 0.3279\n",
      "Epoch 6/12\n",
      "100/100 [==============================] - 0s 3ms/step - loss: 1.7393 - acc: 0.4600 - val_loss: 1.7142 - val_acc: 0.5244\n",
      "Epoch 7/12\n",
      "100/100 [==============================] - 0s 3ms/step - loss: 1.5175 - acc: 0.5500 - val_loss: 1.3537 - val_acc: 0.6363\n",
      "Epoch 8/12\n",
      "100/100 [==============================] - 0s 3ms/step - loss: 1.1534 - acc: 0.7000 - val_loss: 1.2096 - val_acc: 0.6183\n",
      "Epoch 9/12\n",
      "100/100 [==============================] - 0s 3ms/step - loss: 0.9041 - acc: 0.7100 - val_loss: 1.1966 - val_acc: 0.5859\n",
      "Epoch 10/12\n",
      "100/100 [==============================] - 0s 3ms/step - loss: 0.9448 - acc: 0.7400 - val_loss: 1.5023 - val_acc: 0.5587\n",
      "Epoch 11/12\n",
      "100/100 [==============================] - 0s 3ms/step - loss: 1.0499 - acc: 0.6700 - val_loss: 1.1699 - val_acc: 0.6070\n",
      "Epoch 12/12\n",
      "100/100 [==============================] - 0s 3ms/step - loss: 0.8644 - acc: 0.7300 - val_loss: 1.0818 - val_acc: 0.6756\n"
     ]
    },
    {
     "data": {
      "text/plain": [
       "<keras.callbacks.History at 0x7f966b5786a0>"
      ]
     },
     "execution_count": 38,
     "metadata": {
      "tags": []
     },
     "output_type": "execute_result"
    }
   ],
   "source": [
    "histories1 = model1.fit(X_train_sup, y_train_sup,\n",
    "                  batch_size=batch_size,\n",
    "                  epochs=epochs,\n",
    "                  verbose=1,\n",
    "                  validation_data=(X_test, y_test))\n",
    "\n",
    "histories1"
   ]
  },
  {
   "cell_type": "code",
   "execution_count": 39,
   "metadata": {
    "colab": {
     "base_uri": "https://localhost:8080/",
     "height": 50
    },
    "colab_type": "code",
    "id": "8m9DU5BgH39M",
    "outputId": "708ebd2b-1187-4c92-bf57-7a48c6daa86a"
   },
   "outputs": [
    {
     "name": "stdout",
     "output_type": "stream",
     "text": [
      "Test loss: 1.0817532661437987\n",
      "Test accuracy: 0.6756\n"
     ]
    }
   ],
   "source": [
    "score1 = model1.evaluate(X_test, y_test, verbose=0)\n",
    "print('Test loss:', score1[0])\n",
    "print('Test accuracy:', score1[1])"
   ]
  },
  {
   "cell_type": "code",
   "execution_count": 40,
   "metadata": {
    "colab": {
     "base_uri": "https://localhost:8080/",
     "height": 34
    },
    "colab_type": "code",
    "id": "rBasLtLDH7h8",
    "outputId": "c9c0a6cc-e2d1-42e1-d63f-200886380e92"
   },
   "outputs": [
    {
     "data": {
      "text/plain": [
       "dict_keys(['val_loss', 'val_acc', 'loss', 'acc'])"
      ]
     },
     "execution_count": 40,
     "metadata": {
      "tags": []
     },
     "output_type": "execute_result"
    }
   ],
   "source": [
    "histories1.history.keys()"
   ]
  },
  {
   "cell_type": "code",
   "execution_count": 41,
   "metadata": {
    "colab": {
     "base_uri": "https://localhost:8080/",
     "height": 312
    },
    "colab_type": "code",
    "id": "PJDdMxYFH_83",
    "outputId": "07fd8672-0df8-4c16-c957-2e0190ca4358"
   },
   "outputs": [
    {
     "data": {
      "text/plain": [
       "<matplotlib.legend.Legend at 0x7f966b364f60>"
      ]
     },
     "execution_count": 41,
     "metadata": {
      "tags": []
     },
     "output_type": "execute_result"
    },
    {
     "data": {
      "image/png": "[encoded data removed]",
      "text/plain": [
       "<Figure size 432x288 with 1 Axes>"
      ]
     },
     "metadata": {
      "tags": []
     },
     "output_type": "display_data"
    }
   ],
   "source": [
    "plt.plot(histories1.history['acc'], label='training set',marker='o', linestyle='solid',linewidth=1, markersize=6)\n",
    "plt.plot(histories1.history['val_acc'], label='validation set',marker='o', linestyle='solid',linewidth=1, markersize=6)\n",
    "plt.title(\"Model accuracy\")\n",
    "plt.xlabel('Epochs')\n",
    "plt.ylabel('Acuracy')\n",
    "plt.legend(bbox_to_anchor=( 1., 1.))"
   ]
  },
  {
   "cell_type": "code",
   "execution_count": 42,
   "metadata": {
    "colab": {
     "base_uri": "https://localhost:8080/",
     "height": 312
    },
    "colab_type": "code",
    "id": "HYU6qYBPIFO-",
    "outputId": "e905a2b9-a209-4a75-fc59-37290a01e672"
   },
   "outputs": [
    {
     "data": {
      "text/plain": [
       "<matplotlib.legend.Legend at 0x7f966b2bfbe0>"
      ]
     },
     "execution_count": 42,
     "metadata": {
      "tags": []
     },
     "output_type": "execute_result"
    },
    {
     "data": {
      "image/png": "[encoded data removed]",
      "text/plain": [
       "<Figure size 432x288 with 1 Axes>"
      ]
     },
     "metadata": {
      "tags": []
     },
     "output_type": "display_data"
    }
   ],
   "source": [
    "plt.plot(histories1.history['loss'], label='training set',marker='o', linestyle='solid',linewidth=1, markersize=6)\n",
    "plt.plot(histories1.history['val_loss'], label='validation set',marker='o', linestyle='solid',linewidth=1, markersize=6)\n",
    "plt.title(\"Model loss\")\n",
    "plt.xlabel('Epochs')\n",
    "plt.ylabel('Total Loss')\n",
    "plt.legend(bbox_to_anchor=( 1.35, 1.))"
   ]
  }
 ],
 "metadata": {
  "accelerator": "GPU",
  "colab": {
   "collapsed_sections": [],
   "name": "vat_project2.ipynb",
   "provenance": []
  },
  "kernelspec": {
   "display_name": "Python 3",
   "language": "python",
   "name": "python3"
  },
  "language_info": {
   "codemirror_mode": {
    "name": "ipython",
    "version": 3
   },
   "file_extension": ".py",
   "mimetype": "text/x-python",
   "name": "python",
   "nbconvert_exporter": "python",
   "pygments_lexer": "ipython3",
   "version": "3.7.7"
  }
 },
 "nbformat": 4,
 "nbformat_minor": 4
}
